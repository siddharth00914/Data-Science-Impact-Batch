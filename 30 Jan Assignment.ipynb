{
 "cells": [
  {
   "cell_type": "markdown",
   "id": "32352128-99f1-43ff-9e16-0d059de5dbc7",
   "metadata": {},
   "source": [
    "Name: Siddharth Jain"
   ]
  },
  {
   "cell_type": "markdown",
   "id": "69850d98-9c70-447a-808c-64687b6f96c3",
   "metadata": {},
   "source": [
    "Assignment Date : 30 Jan,2023"
   ]
  },
  {
   "cell_type": "markdown",
   "id": "8d3d14b9-62b0-44fc-8b58-858a5d24588c",
   "metadata": {},
   "source": [
    "Q1. Write a program to accept percentage from user and Display the Grades as folloing Criteria Marks Grade > 90 A >80 and <=90 B >=60 and <= =80 c below 60 D"
   ]
  },
  {
   "cell_type": "code",
   "execution_count": 1,
   "id": "33f8e93f-5d86-4c2c-b5f6-4e76af4138ed",
   "metadata": {},
   "outputs": [
    {
     "name": "stdin",
     "output_type": "stream",
     "text": [
      "Enter your percentage(%):  88.5\n"
     ]
    },
    {
     "name": "stdout",
     "output_type": "stream",
     "text": [
      "Grade : B\n"
     ]
    }
   ],
   "source": [
    "# Solution of Question 1\n",
    "percentage=float(input(\"Enter your percentage(%): \"))\n",
    "\n",
    "if percentage>90:\n",
    "    print('Grade : A')\n",
    "elif percentage>80 and percentage<=90:\n",
    "    print('Grade : B')\n",
    "elif percentage>=60 and percentage<=80:\n",
    "    print('Grade : C')\n",
    "elif percentage<60:\n",
    "    print('Grade : D')\n",
    "        "
   ]
  },
  {
   "cell_type": "markdown",
   "id": "df30a209-e6c8-4da8-9227-df93fa45b383",
   "metadata": {},
   "source": [
    "Q2. Write a program to accept cost-price of Bike and display the road tax to be paid according to following Criteria: TAX Cost 15% >100000 10% >50000 and <=100000 5% <= 50000"
   ]
  },
  {
   "cell_type": "code",
   "execution_count": 1,
   "id": "9f9c0af5-9fb6-4800-8b05-6c5132cbbf72",
   "metadata": {},
   "outputs": [
    {
     "name": "stdin",
     "output_type": "stream",
     "text": [
      "Enter the Cost-price of the Bike : 50045\n"
     ]
    },
    {
     "name": "stdout",
     "output_type": "stream",
     "text": [
      "Road Tax to be paid is :  5004.5\n"
     ]
    }
   ],
   "source": [
    "# Solution of Question 2\n",
    "cost = int(input(\"Enter the Cost-price of the Bike :\"))\n",
    "\n",
    "if cost>100000 :\n",
    "    Tax = 0.15*cost\n",
    "    print(\"Road Tax to be paid is : \", Tax)\n",
    "elif cost>50000 and cost <=100000 :\n",
    "    Tax = 0.10*cost\n",
    "    print(\"Road Tax to be paid is : \", Tax)\n",
    "else :\n",
    "    Tax = 0.05*cost\n",
    "    print(\"Road Tax to be paid is : \", Tax)"
   ]
  },
  {
   "cell_type": "markdown",
   "id": "e43fe6b6-847e-4033-8b5a-7885e1e70faf",
   "metadata": {},
   "source": [
    "Q3. Accept any city from user and display its Monument: City Monument Delhi Red Fort Agra Taj Mahal Jaipur Jal Mahal"
   ]
  },
  {
   "cell_type": "code",
   "execution_count": 14,
   "id": "5e066fa1-bc55-467a-aeb0-552e68640ed5",
   "metadata": {},
   "outputs": [
    {
     "name": "stdin",
     "output_type": "stream",
     "text": [
      "Enter City name:  Agra\n"
     ]
    },
    {
     "name": "stdout",
     "output_type": "stream",
     "text": [
      "Monument of  Agra is: Taj Mahal\n"
     ]
    }
   ],
   "source": [
    "# Solution of Question 3\n",
    "city=input(\"Enter City name: \")\n",
    "\n",
    "if city==\"Delhi\":\n",
    "    print('Monument of ', city , \"is: Red Fort\")\n",
    "elif city==\"Agra\":\n",
    "    print('Monument of ', city , \"is: Taj Mahal\")\n",
    "elif city==\"Jaipur\":\n",
    "    print('Monument of ', city , \"is: Jal Mahal\")\n",
    "else:\n",
    "    print('you entered city other than the given cities')"
   ]
  },
  {
   "cell_type": "markdown",
   "id": "042f78f5-866a-4630-9009-6acf36b21be8",
   "metadata": {},
   "source": [
    "Q4. Check how many times a given number can be divided by 3 before it is less than or equal to 10?"
   ]
  },
  {
   "cell_type": "code",
   "execution_count": 21,
   "id": "9b84c79d-a984-43d7-9716-d48f203e4be0",
   "metadata": {},
   "outputs": [
    {
     "name": "stdin",
     "output_type": "stream",
     "text": [
      "enter a number :  67\n"
     ]
    },
    {
     "name": "stdout",
     "output_type": "stream",
     "text": [
      " The given number is divisble by 3 ----> 0 times before it is less than 10\n"
     ]
    }
   ],
   "source": [
    "# Solution of Question 4\n",
    "num=int(input(\"enter a number : \"))\n",
    "\n",
    "j=0\n",
    "\n",
    "while num>10:\n",
    "    if num%3==0:\n",
    "        j=j+1\n",
    "        num=num/3\n",
    "    else:\n",
    "        break\n",
    "print(f\" The given number is divisble by 3 ----> {j} times before it is less than 10\")"
   ]
  },
  {
   "cell_type": "markdown",
   "id": "d9443ad8-a7a0-4e10-ab5b-dff2994f55ca",
   "metadata": {},
   "source": [
    "Q5. Why and when to use While loop in Python. Give datailed Description with Example?"
   ]
  },
  {
   "cell_type": "markdown",
   "id": "a45f03b9-581d-41d8-b501-b57b789bf823",
   "metadata": {
    "jp-MarkdownHeadingCollapsed": true,
    "tags": []
   },
   "source": [
    "Solution of Question 5\n",
    "We use while loop when we want certain condition to be true and the number of itreations don't matter. \n",
    "The loop will run n number of time unless the conditon is met.\n",
    "For example we have asked user to give their weight and set a condition that weight should'nt be\n",
    "negative and the loop will run n times unless user give postitve input"
   ]
  },
  {
   "cell_type": "code",
   "execution_count": 24,
   "id": "e26ebcef-2e5a-499a-90aa-09e2d06799f8",
   "metadata": {},
   "outputs": [
    {
     "name": "stdin",
     "output_type": "stream",
     "text": [
      "Enter your weight:  -3333\n"
     ]
    },
    {
     "name": "stdout",
     "output_type": "stream",
     "text": [
      "weight can't be negative\n"
     ]
    },
    {
     "name": "stdin",
     "output_type": "stream",
     "text": [
      "Enter your weight:  -444\n"
     ]
    },
    {
     "name": "stdout",
     "output_type": "stream",
     "text": [
      "weight can't be negative\n"
     ]
    },
    {
     "name": "stdin",
     "output_type": "stream",
     "text": [
      "Enter your weight:  -2\n"
     ]
    },
    {
     "name": "stdout",
     "output_type": "stream",
     "text": [
      "weight can't be negative\n"
     ]
    },
    {
     "name": "stdin",
     "output_type": "stream",
     "text": [
      "Enter your weight:  3\n"
     ]
    },
    {
     "name": "stdout",
     "output_type": "stream",
     "text": [
      "your weight is:  3\n"
     ]
    }
   ],
   "source": [
    "weight=int(input(\"Enter your weight: \"))\n",
    "\n",
    "while weight<0:\n",
    "    print(\"weight can't be negative\")\n",
    "    weight=int(input(\"Enter your weight: \"))\n",
    "    \n",
    "print(\"your weight is: \",weight)\n"
   ]
  },
  {
   "cell_type": "markdown",
   "id": "5d61733f-e27d-4ca7-83e8-deefbb244690",
   "metadata": {},
   "source": [
    "Q6. Use nested while loop to display 3 different patterns"
   ]
  },
  {
   "cell_type": "code",
   "execution_count": 25,
   "id": "67caaa02-729b-462b-96a7-c2e222b98875",
   "metadata": {},
   "outputs": [
    {
     "name": "stdout",
     "output_type": "stream",
     "text": [
      "* \n",
      "* * \n",
      "* * * \n",
      "* * * * \n",
      "* * * * * \n"
     ]
    }
   ],
   "source": [
    "# solution of Question 6\n",
    "i=1\n",
    "while i<=5:\n",
    "    j=1\n",
    "    while j<=i:\n",
    "        print(\"*\",end=\" \")\n",
    "        j=j+1\n",
    "    print()\n",
    "    i=i+1"
   ]
  },
  {
   "cell_type": "code",
   "execution_count": 26,
   "id": "b81264c7-14f2-4801-ab59-149e162f9d3f",
   "metadata": {},
   "outputs": [
    {
     "name": "stdout",
     "output_type": "stream",
     "text": [
      "* * * * * \n",
      "* * * * \n",
      "* * * \n",
      "* * \n",
      "* \n"
     ]
    }
   ],
   "source": [
    "i=1\n",
    "\n",
    "while i<=5:\n",
    "    j=0\n",
    "    while j<=5-i:\n",
    "        print(\"*\",end=\" \")\n",
    "        j+=1\n",
    "    print()\n",
    "    i+=1"
   ]
  },
  {
   "cell_type": "code",
   "execution_count": 27,
   "id": "0aa5d576-11bb-4105-9be5-8366c9985eb6",
   "metadata": {},
   "outputs": [
    {
     "name": "stdout",
     "output_type": "stream",
     "text": [
      "          * \n",
      "        * * * \n",
      "      * * * * * \n",
      "    * * * * * * * \n",
      "  * * * * * * * * * \n"
     ]
    }
   ],
   "source": [
    "i=1\n",
    "\n",
    "while i<=5:\n",
    "    j=0\n",
    "    while j<=5-i:\n",
    "        print(\" \",end=\" \")\n",
    "        j+=1\n",
    "    \n",
    "    \n",
    "    k=1\n",
    "    while k<=i:\n",
    "        print(\"*\",end=\" \")\n",
    "        k+=1\n",
    "        \n",
    "    l=0\n",
    "    while l<i-1:\n",
    "        print(\"*\",end=\" \")\n",
    "        l+=1\n",
    "    print()\n",
    "        \n",
    "    i+=1"
   ]
  },
  {
   "cell_type": "markdown",
   "id": "282011ea-db48-4f78-9d8a-738e6c08893f",
   "metadata": {},
   "source": [
    "Q8 . Reverse a while loop to display 10 to 1 numbers"
   ]
  },
  {
   "cell_type": "code",
   "execution_count": 29,
   "id": "7019ad61-351b-456a-b3c6-7aa3f6cdb4ba",
   "metadata": {},
   "outputs": [
    {
     "name": "stdout",
     "output_type": "stream",
     "text": [
      "10\n",
      "9\n",
      "8\n",
      "7\n",
      "6\n",
      "5\n",
      "4\n",
      "3\n",
      "2\n",
      "1\n",
      "0\n"
     ]
    }
   ],
   "source": [
    "# solution of Question 7\n",
    "i = 10\n",
    "while i>=0 : \n",
    "    print(i)\n",
    "    i -= 1"
   ]
  },
  {
   "cell_type": "markdown",
   "id": "99862779-b839-44aa-b567-34e4a9d489d0",
   "metadata": {},
   "source": [
    "Q9 . Reverse a while loop to display 10 to 1 numbers"
   ]
  },
  {
   "cell_type": "code",
   "execution_count": null,
   "id": "dac8c4b7-364d-4b25-a78f-e261396d51d5",
   "metadata": {},
   "outputs": [],
   "source": []
  }
 ],
 "metadata": {
  "kernelspec": {
   "display_name": "Python 3 (ipykernel)",
   "language": "python",
   "name": "python3"
  },
  "language_info": {
   "codemirror_mode": {
    "name": "ipython",
    "version": 3
   },
   "file_extension": ".py",
   "mimetype": "text/x-python",
   "name": "python",
   "nbconvert_exporter": "python",
   "pygments_lexer": "ipython3",
   "version": "3.10.8"
  }
 },
 "nbformat": 4,
 "nbformat_minor": 5
}
